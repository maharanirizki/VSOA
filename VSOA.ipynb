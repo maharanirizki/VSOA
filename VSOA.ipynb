{
 "cells": [
  {
   "cell_type": "markdown",
   "metadata": {},
   "source": [
    "# Importing Gurobi"
   ]
  },
  {
   "cell_type": "code",
   "execution_count": 1,
   "metadata": {},
   "outputs": [
    {
     "name": "stdout",
     "output_type": "stream",
     "text": [
      "Academic license - for non-commercial use only\n"
     ]
    }
   ],
   "source": [
    "from gurobipy import*\n",
    "model = Model(\"VSOA\")"
   ]
  },
  {
   "cell_type": "markdown",
   "metadata": {},
   "source": [
    "# Sets"
   ]
  },
  {
   "cell_type": "code",
   "execution_count": 2,
   "metadata": {},
   "outputs": [],
   "source": [
    "I = {1}\n",
    "J = {1,2,3,4}\n",
    "R = {0,1,2,3}"
   ]
  },
  {
   "cell_type": "markdown",
   "metadata": {},
   "source": [
    "# Parameter"
   ]
  },
  {
   "cell_type": "markdown",
   "metadata": {},
   "source": [
    "final weight of supplier j"
   ]
  },
  {
   "cell_type": "code",
   "execution_count": 3,
   "metadata": {},
   "outputs": [],
   "source": [
    "J,w = multidict({1:0.2273, 2:0.2274, 3:0.2474, 4:0.3049})"
   ]
  },
  {
   "cell_type": "markdown",
   "metadata": {},
   "source": [
    "defective rate of item i offered by supplier j"
   ]
  },
  {
   "cell_type": "code",
   "execution_count": 4,
   "metadata": {},
   "outputs": [],
   "source": [
    "J,q = multidict({1:0.08, 2:0.04, 3:0.03, 4:0.01})"
   ]
  },
  {
   "cell_type": "markdown",
   "metadata": {},
   "source": [
    "on-time delivery rate of item i offered by supplier j"
   ]
  },
  {
   "cell_type": "code",
   "execution_count": 5,
   "metadata": {},
   "outputs": [],
   "source": [
    "J,t = multidict({1:0.83, 2:0.83, 3:0.95, 4:0.86})"
   ]
  },
  {
   "cell_type": "markdown",
   "metadata": {},
   "source": [
    "maximum supply capacity of item i offered by supplier j"
   ]
  },
  {
   "cell_type": "code",
   "execution_count": 6,
   "metadata": {},
   "outputs": [],
   "source": [
    "J,C =  multidict({1:400, 2:700, 3:600, 4:500})"
   ]
  },
  {
   "cell_type": "markdown",
   "metadata": {},
   "source": [
    "unit price of item i quoted by supplier j"
   ]
  },
  {
   "cell_type": "code",
   "execution_count": 7,
   "metadata": {},
   "outputs": [],
   "source": [
    "J,p = multidict({1:411, 2:555, 3:629, 4:728})"
   ]
  },
  {
   "cell_type": "markdown",
   "metadata": {},
   "source": [
    "total demand of item i"
   ]
  },
  {
   "cell_type": "code",
   "execution_count": 8,
   "metadata": {},
   "outputs": [],
   "source": [
    "I,D = multidict({1:800})"
   ]
  },
  {
   "cell_type": "markdown",
   "metadata": {},
   "source": [
    "buyer's maximum acceptable defective rate of item i"
   ]
  },
  {
   "cell_type": "code",
   "execution_count": 9,
   "metadata": {},
   "outputs": [],
   "source": [
    "I,Q = multidict({1:0.02})"
   ]
  },
  {
   "cell_type": "markdown",
   "metadata": {},
   "source": [
    "buyer's minimum acceptable on-time delivery rate of item i"
   ]
  },
  {
   "cell_type": "code",
   "execution_count": 10,
   "metadata": {},
   "outputs": [],
   "source": [
    "I,T = multidict({1:0.9})"
   ]
  },
  {
   "cell_type": "markdown",
   "metadata": {},
   "source": [
    "discount coefficient associated with interval r of supplier j's discount schedule"
   ]
  },
  {
   "cell_type": "code",
   "execution_count": 11,
   "metadata": {},
   "outputs": [],
   "source": [
    "d = {(1,1):0, (1,2):0.1, (1,3):0.2,\n",
    "    (2,1):0, (2,2):0.1, (2,3):0.2,\n",
    "    (3,1):0, (3,2):0.1, (3,3):0.2,\n",
    "    (4,1):0, (4,2):0.1, (4,3):0.2}"
   ]
  },
  {
   "cell_type": "markdown",
   "metadata": {},
   "source": [
    "upper limit in interval r of supplier j's discount schedule"
   ]
  },
  {
   "cell_type": "code",
   "execution_count": 12,
   "metadata": {},
   "outputs": [],
   "source": [
    "b = {(1,0):0, (1,1):10000, (1,2):20000, (1,3):10000000,\n",
    "    (2,0):0, (2,1):10000, (2,2):20000, (2,3):10000000,\n",
    "    (3,0):0, (3,1):10000, (3,2):20000, (3,3):10000000,\n",
    "    (4,0):0, (4,1):10000, (4,2):20000, (4,3):10000000}"
   ]
  },
  {
   "cell_type": "markdown",
   "metadata": {},
   "source": [
    "# Decision Variable"
   ]
  },
  {
   "cell_type": "markdown",
   "metadata": {},
   "source": [
    "Binary integer variable, equal to 1 if business volume purchased from supplier j falls on the discount interval r"
   ]
  },
  {
   "cell_type": "code",
   "execution_count": 13,
   "metadata": {},
   "outputs": [],
   "source": [
    "y = {}\n",
    "for j in J:\n",
    "    for r in R:\n",
    "        y[j,r] = model.addVar(vtype=\"b\", name=\"y(%s,%s)\"%(j,r))"
   ]
  },
  {
   "cell_type": "markdown",
   "metadata": {},
   "source": [
    "Units of item i to purchase from supplier j"
   ]
  },
  {
   "cell_type": "code",
   "execution_count": 14,
   "metadata": {},
   "outputs": [],
   "source": [
    "x = {}\n",
    "for i in I:\n",
    "    for j in J:\n",
    "        x[i,j] = model.addVar(lb=0, vtype=\"c\", name=\"x(%s,%s)\"%(i,j))"
   ]
  },
  {
   "cell_type": "markdown",
   "metadata": {},
   "source": [
    "Business volume purchased from supplier j in discount interval r"
   ]
  },
  {
   "cell_type": "code",
   "execution_count": 15,
   "metadata": {},
   "outputs": [],
   "source": [
    "v = {}\n",
    "for j in J:\n",
    "    for r in R:\n",
    "        v[j,r] = model.addVar(vtype=\"c\", name=\"v(%s,%s)\"%(j,r))"
   ]
  },
  {
   "cell_type": "markdown",
   "metadata": {},
   "source": [
    "# Objective Function"
   ]
  },
  {
   "cell_type": "markdown",
   "metadata": {},
   "source": [
    "Maximizing total weighted quantity of purchasing"
   ]
  },
  {
   "cell_type": "code",
   "execution_count": 16,
   "metadata": {},
   "outputs": [],
   "source": [
    "model.setObjectiveN(-quicksum(w[j]*x[i,j] for i,j in x),0)"
   ]
  },
  {
   "cell_type": "markdown",
   "metadata": {},
   "source": [
    "Minimize the total purchase cost"
   ]
  },
  {
   "cell_type": "code",
   "execution_count": 17,
   "metadata": {},
   "outputs": [],
   "source": [
    "model.setObjectiveN(quicksum((1-d[j,r])*v[j,r] for j in J for r in range(1,4)),1)"
   ]
  },
  {
   "cell_type": "markdown",
   "metadata": {},
   "source": [
    "Minimize the number of defective items"
   ]
  },
  {
   "cell_type": "code",
   "execution_count": 18,
   "metadata": {},
   "outputs": [],
   "source": [
    "model.setObjectiveN(quicksum(q[j]*x[i,j] for i,j in x),2)"
   ]
  },
  {
   "cell_type": "markdown",
   "metadata": {},
   "source": [
    "Maximizing the number of items delivered on time"
   ]
  },
  {
   "cell_type": "code",
   "execution_count": 19,
   "metadata": {},
   "outputs": [],
   "source": [
    "model.setObjectiveN(-quicksum(t[j]*x[i,j] for i,j in x),3)"
   ]
  },
  {
   "cell_type": "code",
   "execution_count": 20,
   "metadata": {},
   "outputs": [],
   "source": [
    "model.ModelSense = GRB.MINIMIZE"
   ]
  },
  {
   "cell_type": "markdown",
   "metadata": {},
   "source": [
    "# Constraints"
   ]
  },
  {
   "cell_type": "code",
   "execution_count": 21,
   "metadata": {},
   "outputs": [
    {
     "data": {
      "text/plain": [
       "<gurobi.Constr *Awaiting Model Update*>"
      ]
     },
     "execution_count": 21,
     "metadata": {},
     "output_type": "execute_result"
    }
   ],
   "source": [
    "model.addConstr(quicksum(v[j,r] for r in range(1,4) for j in J) == quicksum(p[j]*x[1,j] for j in J))"
   ]
  },
  {
   "cell_type": "markdown",
   "metadata": {},
   "source": [
    "Capacity constraint"
   ]
  },
  {
   "cell_type": "code",
   "execution_count": 22,
   "metadata": {},
   "outputs": [],
   "source": [
    "for j in J:\n",
    "    for i in I:\n",
    "        model.addConstr(x[i,j] <= C[j])"
   ]
  },
  {
   "cell_type": "markdown",
   "metadata": {},
   "source": [
    "Discount constraint"
   ]
  },
  {
   "cell_type": "code",
   "execution_count": 23,
   "metadata": {},
   "outputs": [],
   "source": [
    "for j in J:\n",
    "    model.addConstr(quicksum(y[j,r] for r in range(1,4)) <= 1)"
   ]
  },
  {
   "cell_type": "code",
   "execution_count": 24,
   "metadata": {},
   "outputs": [],
   "source": [
    "for j in J:\n",
    "    for r in range(1,4):\n",
    "        model.addConstr(b[j,r-1]*y[j,r] <= v[j,r])"
   ]
  },
  {
   "cell_type": "code",
   "execution_count": 25,
   "metadata": {},
   "outputs": [],
   "source": [
    "for j in J:\n",
    "    for r in range(1,4):\n",
    "        model.addConstr(v[j,r] <= (b[j,r]-1)*y[j,r])"
   ]
  },
  {
   "cell_type": "markdown",
   "metadata": {},
   "source": [
    "Demand constraint"
   ]
  },
  {
   "cell_type": "code",
   "execution_count": 26,
   "metadata": {},
   "outputs": [],
   "source": [
    "for i in I:\n",
    "    model.addConstr(quicksum(x[i,j] for j in J) == D[i])"
   ]
  },
  {
   "cell_type": "markdown",
   "metadata": {},
   "source": [
    "Quality constraint"
   ]
  },
  {
   "cell_type": "code",
   "execution_count": 27,
   "metadata": {},
   "outputs": [],
   "source": [
    "for i in I:\n",
    "    model.addConstr(quicksum(x[i,j]*q[j] for j in J) <= D[i]*Q[i])"
   ]
  },
  {
   "cell_type": "markdown",
   "metadata": {},
   "source": [
    "Delivery constraint"
   ]
  },
  {
   "cell_type": "code",
   "execution_count": 28,
   "metadata": {},
   "outputs": [],
   "source": [
    "for i in I:\n",
    "    model.addConstr(quicksum((1-t[j])*x[i,j] for j in J) <= (1-T[i])*D[i])"
   ]
  },
  {
   "cell_type": "markdown",
   "metadata": {},
   "source": [
    "# Results"
   ]
  },
  {
   "cell_type": "code",
   "execution_count": 29,
   "metadata": {},
   "outputs": [
    {
     "name": "stdout",
     "output_type": "stream",
     "text": [
      "Optimize a model with 36 rows, 36 columns and 88 nonzeros\n",
      "Variable types: 20 continuous, 16 integer (16 binary)\n",
      "Coefficient statistics:\n",
      "  Matrix range     [1e-02, 1e+07]\n",
      "  Objective range  [1e-02, 1e+00]\n",
      "  Bounds range     [1e+00, 1e+00]\n",
      "  RHS range        [1e+00, 8e+02]\n",
      "\n",
      "---------------------------------------------------------------------------\n",
      "Multi-objectives: starting optimization with 4 objectives (1 combined) ...\n",
      "---------------------------------------------------------------------------\n",
      "---------------------------------------------------------------------------\n",
      "\n",
      "Multi-objectives: optimize objective 1 (weighted) ...\n",
      "---------------------------------------------------------------------------\n",
      "\n",
      "Optimize a model with 36 rows, 36 columns and 88 nonzeros\n",
      "Variable types: 20 continuous, 16 integer (16 binary)\n",
      "Coefficient statistics:\n",
      "  Matrix range     [1e-02, 1e+07]\n",
      "  Objective range  [8e-01, 1e+00]\n",
      "  Bounds range     [1e+00, 1e+00]\n",
      "  RHS range        [1e+00, 8e+02]\n",
      "Presolve removed 13 rows and 13 columns\n",
      "Presolve time: 0.20s\n",
      "Presolved: 23 rows, 23 columns, 65 nonzeros\n",
      "Variable types: 15 continuous, 8 integer (8 binary)\n",
      "\n",
      "Root relaxation: objective 4.328397e+05, 4 iterations, 0.05 seconds\n",
      "\n",
      "    Nodes    |    Current Node    |     Objective Bounds      |     Work\n",
      " Expl Unexpl |  Obj  Depth IntInf | Incumbent    BestBd   Gap | It/Node Time\n",
      "\n",
      "*    0     0               0    432839.71636 432839.716  0.00%     -    0s\n",
      "\n",
      "Explored 0 nodes (4 simplex iterations) in 0.48 seconds\n",
      "Thread count was 4 (of 4 available processors)\n",
      "\n",
      "Solution count 1: 432840 \n",
      "No other solutions better than 432840\n",
      "\n",
      "Optimal solution found (tolerance 1.00e-04)\n",
      "Best objective 4.328397163636e+05, best bound 4.328397163636e+05, gap 0.0000%\n",
      "\n",
      "---------------------------------------------------------------------------\n",
      "Multi-objectives: solved in 0.52 seconds, solution count 1\n",
      "\n"
     ]
    }
   ],
   "source": [
    "model.optimize()"
   ]
  },
  {
   "cell_type": "markdown",
   "metadata": {},
   "source": [
    "To ensure that the status is optimal"
   ]
  },
  {
   "cell_type": "code",
   "execution_count": 39,
   "metadata": {},
   "outputs": [],
   "source": [
    "assert model.Status == GRB.Status.OPTIMAL"
   ]
  },
  {
   "cell_type": "markdown",
   "metadata": {},
   "source": [
    "Creating a query number of multiple objectives and number of solutions"
   ]
  },
  {
   "cell_type": "code",
   "execution_count": 40,
   "metadata": {},
   "outputs": [
    {
     "name": "stdout",
     "output_type": "stream",
     "text": [
      "Problem has 4 objectives\n",
      "Gurobi found 1 solutions\n"
     ]
    }
   ],
   "source": [
    "nSolutions = model.SolCount\n",
    "nObjectives = model.NumObj\n",
    "print('Problem has', nObjectives, 'objectives')\n",
    "print('Gurobi found', nSolutions, 'solutions')"
   ]
  },
  {
   "cell_type": "markdown",
   "metadata": {},
   "source": [
    "Value for each objective function"
   ]
  },
  {
   "cell_type": "code",
   "execution_count": 53,
   "metadata": {},
   "outputs": [
    {
     "name": "stdout",
     "output_type": "stream",
     "text": [
      "Changed value of parameter ObjNumber to 0\n",
      "   Prev: 3  Min: 0  Max: 2000000000  Default: 0\n",
      "Objective value  1 :  -221.1321212121212Changed value of parameter ObjNumber to 1\n",
      "   Prev: 0  Min: 0  Max: 2000000000  Default: 0\n",
      "Objective value  2 :  433764.84848484845Changed value of parameter ObjNumber to 2\n",
      "   Prev: 1  Min: 0  Max: 2000000000  Default: 0\n",
      "Objective value  3 :  16.0Changed value of parameter ObjNumber to 3\n",
      "   Prev: 2  Min: 0  Max: 2000000000  Default: 0\n",
      "Objective value  4 :  -720.0"
     ]
    }
   ],
   "source": [
    "solutions = []\n",
    "#for s in range(nSolutions):\n",
    "#    model.params.SolutionNumber = s\n",
    "#    print('Solution', s, ':', end='')\n",
    "for o in range(nObjectives):\n",
    "    model.params.ObjNumber = o\n",
    "    print('Objective value ',o+1, ': ', model.ObjNVal, end='')"
   ]
  },
  {
   "cell_type": "code",
   "execution_count": 54,
   "metadata": {},
   "outputs": [
    {
     "data": {
      "text/plain": [
       "[{(1, 1): 0.0,\n",
       "  (1, 2): 24.2424242424242,\n",
       "  (1, 3): 363.63636363636374,\n",
       "  (1, 4): 412.12121212121207}]"
      ]
     },
     "execution_count": 54,
     "metadata": {},
     "output_type": "execute_result"
    }
   ],
   "source": [
    "solutions.append(model.getAttr('Xn',x))\n",
    "solutions"
   ]
  },
  {
   "cell_type": "code",
   "execution_count": 37,
   "metadata": {},
   "outputs": [
    {
     "name": "stdout",
     "output_type": "stream",
     "text": [
      "Item 1 bought from supplier 2 is: 24.2424242424242\n",
      "Item 1 bought from supplier 3 is: 363.63636363636374\n",
      "Item 1 bought from supplier 4 is: 412.12121212121207\n"
     ]
    }
   ],
   "source": [
    "EPS = 0.00000001\n",
    "for (i,j) in x:\n",
    "    if x[i,j].X > EPS:\n",
    "        print(\"Item %1s bought from supplier %1s is: %3s\"%(i,j, x[i,j].X))"
   ]
  }
 ],
 "metadata": {
  "kernelspec": {
   "display_name": "Python 3",
   "language": "python",
   "name": "python3"
  },
  "language_info": {
   "codemirror_mode": {
    "name": "ipython",
    "version": 3
   },
   "file_extension": ".py",
   "mimetype": "text/x-python",
   "name": "python",
   "nbconvert_exporter": "python",
   "pygments_lexer": "ipython3",
   "version": "3.6.4"
  }
 },
 "nbformat": 4,
 "nbformat_minor": 2
}
